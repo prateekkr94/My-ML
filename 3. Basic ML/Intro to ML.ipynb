{
 "cells": [
  {
   "cell_type": "markdown",
   "metadata": {},
   "source": [
    "# Linear Regression "
   ]
  },
  {
   "cell_type": "code",
   "execution_count": 1,
   "metadata": {},
   "outputs": [],
   "source": [
    "import pandas as pd\n",
    "import numpy as np"
   ]
  },
  {
   "cell_type": "code",
   "execution_count": 2,
   "metadata": {},
   "outputs": [],
   "source": [
    "x1=np.random.randint(low=1,high=20,size=(50,))\n",
    "x2=np.random.randint(low=1,high=20,size=(50,))"
   ]
  },
  {
   "cell_type": "code",
   "execution_count": 3,
   "metadata": {},
   "outputs": [],
   "source": [
    "y=3+2*x1-4*x2+np.random.random((50,))"
   ]
  },
  {
   "cell_type": "code",
   "execution_count": 4,
   "metadata": {},
   "outputs": [
    {
     "data": {
      "text/plain": [
       "array([ 21.41658255, -28.91621057,  23.19497439, -48.28355927,\n",
       "        -0.86508364,   1.80477639,   5.17018001, -22.22094212,\n",
       "       -42.20656957,  13.96127771, -42.20343146,  -4.01360574,\n",
       "        13.51987918, -10.33182704,   5.1191233 , -44.44979534,\n",
       "         1.48747489,   5.39611761, -38.00439638, -46.3005982 ,\n",
       "       -46.75943569,  -6.37078071,  27.42628747, -16.32271557,\n",
       "       -44.77719396, -10.48733575,   1.84691042, -52.45241257,\n",
       "       -50.38162247,   5.15701152, -24.16851932, -42.0974381 ,\n",
       "       -22.36420534, -12.07797568,   7.78735665,  -8.48993519,\n",
       "       -52.82237837, -10.60062822, -30.15770791, -40.7285182 ,\n",
       "       -12.10527547, -10.50237651,   7.57553766, -48.14001032,\n",
       "        -8.53008639, -12.44719443,   9.97025991, -18.250977  ,\n",
       "         9.31164076, -20.97317167])"
      ]
     },
     "execution_count": 4,
     "metadata": {},
     "output_type": "execute_result"
    }
   ],
   "source": [
    "y"
   ]
  },
  {
   "cell_type": "code",
   "execution_count": 5,
   "metadata": {},
   "outputs": [
    {
     "data": {
      "text/plain": [
       "array([19,  4, 18,  6,  8,  5,  5, 19,  1,  9, 13,  2,  9, 19, 19,  4, 11,\n",
       "        9, 15,  1,  9,  1, 16, 12, 10, 11,  5,  4,  7, 15,  4,  5,  7, 12,\n",
       "       12, 16,  8, 13, 11, 12,  6, 13, 16, 10, 14, 18, 11, 15, 11, 10])"
      ]
     },
     "execution_count": 5,
     "metadata": {},
     "output_type": "execute_result"
    }
   ],
   "source": [
    "x1"
   ]
  },
  {
   "cell_type": "code",
   "execution_count": 6,
   "metadata": {},
   "outputs": [
    {
     "data": {
      "text/plain": [
       "array([ 5, 10,  4, 16,  5,  3,  2, 16, 12,  2, 18,  3,  2, 13,  9, 14,  6,\n",
       "        4, 18, 13, 17,  3,  2, 11, 17,  9,  3, 16, 17,  7,  9, 14, 10, 10,\n",
       "        5, 11, 18, 10, 14, 17,  7, 10,  7, 18, 10, 13,  4, 13,  4, 11])"
      ]
     },
     "execution_count": 6,
     "metadata": {},
     "output_type": "execute_result"
    }
   ],
   "source": [
    "x2"
   ]
  },
  {
   "cell_type": "code",
   "execution_count": 7,
   "metadata": {},
   "outputs": [],
   "source": [
    "x=pd.DataFrame({'intercept':np.ones_like(x1),'x1':x1,'x2':x2})\n",
    "w=np.zeros(x.shape[1])"
   ]
  },
  {
   "cell_type": "code",
   "execution_count": 8,
   "metadata": {},
   "outputs": [],
   "source": [
    "def myprediction(features,weights):\n",
    "    predictions=np.dot(features,weights)\n",
    "    return(predictions)\n",
    "\n",
    "#myprediction(x,w)"
   ]
  },
  {
   "cell_type": "code",
   "execution_count": 9,
   "metadata": {},
   "outputs": [],
   "source": [
    "def myerror(target,features,weights):\n",
    "    error=target-myprediction(features,weights)\n",
    "    return(error)"
   ]
  },
  {
   "cell_type": "code",
   "execution_count": 10,
   "metadata": {},
   "outputs": [],
   "source": [
    "def mycost(target,features,weights):\n",
    "    error=myerror(target,features,weights)\n",
    "    cost=np.dot(error.T,error)\n",
    "    return(cost)\n",
    "\n",
    "#mycost(y,x,w)"
   ]
  },
  {
   "cell_type": "code",
   "execution_count": 11,
   "metadata": {},
   "outputs": [],
   "source": [
    "def gradient(target,features,weights):\n",
    "    error=myerror(target,features,weights)\n",
    "    gradient=-np.dot(features.T,error)\n",
    "    return(gradient)\n",
    "\n",
    "#gradient(y,x,w)"
   ]
  },
  {
   "cell_type": "markdown",
   "metadata": {},
   "source": [
    "## Manual Implementation"
   ]
  },
  {
   "cell_type": "code",
   "execution_count": 12,
   "metadata": {
    "scrolled": true
   },
   "outputs": [
    {
     "name": "stdout",
     "output_type": "stream",
     "text": [
      "37073.52188201714 [-0.00837405 -0.00559442 -0.01286195]\n",
      "34.45467956141961 [ 1.41483776  2.09177058 -3.90342762]\n",
      "11.899546780590814 [ 2.48700625  2.04259532 -3.94843108]\n",
      "5.820913942077615 [ 3.04360622  2.01706115 -3.97178819]\n",
      "4.182715753670493 [ 3.33255672  2.00380547 -3.98391368]\n",
      "3.7412195528311525 [ 3.48256102  1.99692398 -3.99020844]\n",
      "3.622235844550373 [ 3.5604335   1.99335156 -3.99347628]\n",
      "3.590169605227545 [ 3.60085982  1.99149699 -3.99517272]\n",
      "3.581527718710726 [ 3.62184654  1.99053422 -3.99605341]\n",
      "3.5791987208567226 [ 3.63274147  1.99003441 -3.9965106 ]\n"
     ]
    },
    {
     "data": {
      "text/plain": [
       "array([ 3.63839702,  1.98977496, -3.99674793])"
      ]
     },
     "execution_count": 12,
     "metadata": {},
     "output_type": "execute_result"
    }
   ],
   "source": [
    "def my_lr(target,features,learning_rate):\n",
    "    weights=np.zeros(features.shape[1])\n",
    "    for i in np.arange(100000):\n",
    "        weights -= learning_rate*gradient(target,features,weights)\n",
    "        weights[0] -=10*learning_rate*gradient(target,features,weights)[0] # if you comment this out , your coefficient estimates will not be as good as sklearn\n",
    "        if i%10000==0:\n",
    "            print(mycost(target,features,weights),weights)\n",
    "    return(weights)\n",
    "\n",
    "my_lr(y,x,0.000001)"
   ]
  },
  {
   "cell_type": "markdown",
   "metadata": {},
   "source": [
    "## Sklearn"
   ]
  },
  {
   "cell_type": "code",
   "execution_count": 13,
   "metadata": {},
   "outputs": [],
   "source": [
    "from sklearn.linear_model import LinearRegression"
   ]
  },
  {
   "cell_type": "code",
   "execution_count": 14,
   "metadata": {},
   "outputs": [],
   "source": [
    "lr=LinearRegression()"
   ]
  },
  {
   "cell_type": "code",
   "execution_count": 15,
   "metadata": {},
   "outputs": [
    {
     "data": {
      "text/plain": [
       "(50, 3)"
      ]
     },
     "execution_count": 15,
     "metadata": {},
     "output_type": "execute_result"
    }
   ],
   "source": [
    "x.shape"
   ]
  },
  {
   "cell_type": "code",
   "execution_count": 16,
   "metadata": {},
   "outputs": [
    {
     "data": {
      "text/plain": [
       "LinearRegression(copy_X=True, fit_intercept=True, n_jobs=None,\n",
       "         normalize=False)"
      ]
     },
     "execution_count": 16,
     "metadata": {},
     "output_type": "execute_result"
    }
   ],
   "source": [
    "lr.fit(x.iloc[:,1:],y)"
   ]
  },
  {
   "cell_type": "code",
   "execution_count": 17,
   "metadata": {},
   "outputs": [
    {
     "data": {
      "text/plain": [
       "array([ 1.98949482, -3.99700418])"
      ]
     },
     "execution_count": 17,
     "metadata": {},
     "output_type": "execute_result"
    }
   ],
   "source": [
    "lr.coef_"
   ]
  },
  {
   "cell_type": "code",
   "execution_count": 18,
   "metadata": {},
   "outputs": [
    {
     "data": {
      "text/plain": [
       "3.6445034912153798"
      ]
     },
     "execution_count": 18,
     "metadata": {},
     "output_type": "execute_result"
    }
   ],
   "source": [
    "lr.intercept_"
   ]
  }
 ],
 "metadata": {
  "kernelspec": {
   "display_name": "Python 3",
   "language": "python",
   "name": "python3"
  },
  "language_info": {
   "codemirror_mode": {
    "name": "ipython",
    "version": 3
   },
   "file_extension": ".py",
   "mimetype": "text/x-python",
   "name": "python",
   "nbconvert_exporter": "python",
   "pygments_lexer": "ipython3",
   "version": "3.7.1"
  }
 },
 "nbformat": 4,
 "nbformat_minor": 2
}
